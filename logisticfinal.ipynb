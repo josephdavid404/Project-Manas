{
 "cells": [
  {
   "cell_type": "code",
   "execution_count": 1,
   "metadata": {},
   "outputs": [],
   "source": [
    "import matplotlib.pyplot as plt\n",
    "import pandas as pd\n",
    "import numpy as np"
   ]
  },
  {
   "cell_type": "code",
   "execution_count": 2,
   "metadata": {},
   "outputs": [
    {
     "name": "stdout",
     "output_type": "stream",
     "text": [
      "   male  age  education  currentSmoker  cigsPerDay  BPMeds  prevalentStroke  \\\n",
      "0     1   39        4.0              0         0.0     0.0                0   \n",
      "1     0   46        2.0              0         0.0     0.0                0   \n",
      "2     1   48        1.0              1        20.0     0.0                0   \n",
      "3     0   61        3.0              1        30.0     0.0                0   \n",
      "4     0   46        3.0              1        23.0     0.0                0   \n",
      "\n",
      "   prevalentHyp  diabetes  totChol  sysBP  diaBP    BMI  heartRate  glucose  \\\n",
      "0             0         0    195.0  106.0   70.0  26.97       80.0     77.0   \n",
      "1             0         0    250.0  121.0   81.0  28.73       95.0     76.0   \n",
      "2             0         0    245.0  127.5   80.0  25.34       75.0     70.0   \n",
      "3             1         0    225.0  150.0   95.0  28.58       65.0    103.0   \n",
      "4             0         0    285.0  130.0   84.0  23.10       85.0     85.0   \n",
      "\n",
      "   TenYearCHD  \n",
      "0           0  \n",
      "1           0  \n",
      "2           0  \n",
      "3           1  \n",
      "4           0  \n"
     ]
    }
   ],
   "source": [
    "data=pd.read_csv('/home/joseph/Downloads/heartdisease.csv')\n",
    "data = data.dropna()\n",
    "print(data.head())"
   ]
  },
  {
   "cell_type": "code",
   "execution_count": 3,
   "metadata": {},
   "outputs": [],
   "source": [
    "def normal(x):\n",
    "    maxi=max(x)\n",
    "    mini=min(x)\n",
    "    a=(x-mini)/(maxi-mini)\n",
    "    return(a)"
   ]
  },
  {
   "cell_type": "code",
   "execution_count": 4,
   "metadata": {},
   "outputs": [],
   "source": [
    "gender=data['male']#1\n",
    "age=normal(data['age'])#2\n",
    "edu=data['education']#3\n",
    "smoke=data['currentSmoker']#4\n",
    "cig=normal(data['cigsPerDay'])#5\n",
    "stroke=data['prevalentStroke']#6\n",
    "hyp=data['prevalentHyp']#7\n",
    "diabetes=data['diabetes']#8\n",
    "chol=normal(data['totChol'])#9\n",
    "sysbp=normal(data['sysBP'])#10\n",
    "diabp=normal(data['diaBP'])#11\n",
    "bmi=normal(data['BMI'])#12\n",
    "hr=normal(data['heartRate'])#13\n",
    "glucose=normal(data['glucose'])#14\n",
    "y=data['TenYearCHD']"
   ]
  },
  {
   "cell_type": "code",
   "execution_count": 19,
   "metadata": {},
   "outputs": [],
   "source": [
    "m=len(y)\n",
    "x0=np.ones(m)\n",
    "x=np.array([x0,gender,age,smoke,cig,stroke,hyp,diabetes,chol,sysbp,diabp,bmi,hr,glucose]).T\n",
    "b=np.zeros(14)\n",
    "y=np.array(y)"
   ]
  },
  {
   "cell_type": "code",
   "execution_count": 29,
   "metadata": {},
   "outputs": [],
   "source": [
    "def hypo(x,b):\n",
    "    z = x.dot(b)\n",
    "    result=(1/(1+np.exp(-(z)))-0.000001)\n",
    "    return(result)"
   ]
  },
  {
   "cell_type": "code",
   "execution_count": 30,
   "metadata": {},
   "outputs": [],
   "source": [
    "def cost(x,y,b):\n",
    "    ypred=hypo(x,b)\n",
    "    cost= -(1/len(x)) * np.sum(y*np.log(ypred) + (1-y)*np.log(1-ypred))\n",
    "    return cost"
   ]
  },
  {
   "cell_type": "code",
   "execution_count": 33,
   "metadata": {},
   "outputs": [],
   "source": [
    "def gradesc(x,y,b):\n",
    "    time=10000\n",
    "    a=0.05\n",
    "    costhist=np.zeros(time)\n",
    "    for i in range(time):\n",
    "        h=hypo(x,b)\n",
    "        loss=(h-y)\n",
    "        gradient=x.T.dot(loss)/len(y)\n",
    "        b=b-a*gradient\n",
    "        costi=cost(x,y,b)\n",
    "        costhist[i]=costi\n",
    "    return(b,h,costhist)"
   ]
  },
  {
   "cell_type": "code",
   "execution_count": 34,
   "metadata": {},
   "outputs": [],
   "source": [
    "x=np.array([x0,gender,age,smoke,cig,stroke,hyp,diabetes,chol,sysbp,diabp,bmi,hr,glucose]).T\n",
    "b=np.zeros(14)\n",
    "b,h,costhist=gradesc(x,y,b)"
   ]
  },
  {
   "cell_type": "code",
   "execution_count": 37,
   "metadata": {},
   "outputs": [
    {
     "name": "stdout",
     "output_type": "stream",
     "text": [
      "0.6117522390701245\n",
      "0.6176108199497073\n",
      "0.568876698212538\n",
      "0.5421933980977713\n",
      "0.5326916413421687\n",
      "0.5840020204902585\n",
      "0.5781286878819044\n",
      "0.503479994706151\n",
      "0.587348294068755\n",
      "0.510617495942039\n",
      "0.5316157442714253\n",
      "0.5611844264740663\n",
      "0.63374458061637\n",
      "0.5586046298515729\n",
      "0.5893539932500229\n",
      "0.6269048185801007\n",
      "0.6425711062080427\n",
      "0.5057020452667051\n"
     ]
    }
   ],
   "source": [
    "for i in h:\n",
    "    if(i>0.5):\n",
    "        print(i)"
   ]
  },
  {
   "cell_type": "code",
   "execution_count": null,
   "metadata": {},
   "outputs": [],
   "source": []
  }
 ],
 "metadata": {
  "kernelspec": {
   "display_name": "Python 3",
   "language": "python",
   "name": "python3"
  },
  "language_info": {
   "codemirror_mode": {
    "name": "ipython",
    "version": 3
   },
   "file_extension": ".py",
   "mimetype": "text/x-python",
   "name": "python",
   "nbconvert_exporter": "python",
   "pygments_lexer": "ipython3",
   "version": "3.6.9"
  }
 },
 "nbformat": 4,
 "nbformat_minor": 4
}
